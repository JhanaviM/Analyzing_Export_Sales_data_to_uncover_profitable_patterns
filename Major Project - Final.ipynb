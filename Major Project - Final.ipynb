{
 "cells": [
  {
   "cell_type": "code",
   "execution_count": 1,
   "id": "c55d8db1",
   "metadata": {},
   "outputs": [],
   "source": [
    "#Importing Libraries:\n",
    "\n",
    "import pandas as pd\n",
    "import numpy as np\n",
    "\n",
    "import matplotlib.pyplot as plt\n",
    "import seaborn as sns\n",
    "\n",
    "import warnings\n",
    "warnings.filterwarnings('ignore')"
   ]
  },
  {
   "cell_type": "code",
   "execution_count": 2,
   "id": "1b6a462a",
   "metadata": {},
   "outputs": [],
   "source": [
    "#Reading .csv file:\n",
    "data = pd.read_csv(\"Sale_of_wheat.csv\")"
   ]
  },
  {
   "cell_type": "code",
   "execution_count": 3,
   "id": "aefaab1f",
   "metadata": {},
   "outputs": [
    {
     "data": {
      "text/plain": [
       "Index(['Sales of Wheat in tons', '1990', '1991', '1992', '1993', '1994',\n",
       "       '1995', '1996', '1997', '1998', '1999', '2000', '2001', '2002', '2003',\n",
       "       '2004', '2005', '2006', '2007'],\n",
       "      dtype='object')"
      ]
     },
     "execution_count": 3,
     "metadata": {},
     "output_type": "execute_result"
    }
   ],
   "source": [
    "#Column names:\n",
    "data.columns"
   ]
  },
  {
   "cell_type": "code",
   "execution_count": 4,
   "id": "640e5d8d",
   "metadata": {},
   "outputs": [],
   "source": [
    "#Renaming a column:\n",
    "data = data.rename(columns={'Sales of Wheat in tons': 'Country'})"
   ]
  },
  {
   "cell_type": "code",
   "execution_count": 5,
   "id": "1e54e3b1",
   "metadata": {},
   "outputs": [
    {
     "data": {
      "text/plain": [
       "Index(['Country', '1990', '1991', '1992', '1993', '1994', '1995', '1996',\n",
       "       '1997', '1998', '1999', '2000', '2001', '2002', '2003', '2004', '2005',\n",
       "       '2006', '2007'],\n",
       "      dtype='object')"
      ]
     },
     "execution_count": 5,
     "metadata": {},
     "output_type": "execute_result"
    }
   ],
   "source": [
    "#Updated column names:\n",
    "data.columns"
   ]
  },
  {
   "cell_type": "code",
   "execution_count": 6,
   "id": "a61dae83",
   "metadata": {},
   "outputs": [
    {
     "name": "stdout",
     "output_type": "stream",
     "text": [
      "Country    0\n",
      "1990       0\n",
      "1991       0\n",
      "1992       0\n",
      "1993       0\n",
      "1994       0\n",
      "1995       0\n",
      "1996       2\n",
      "1997       1\n",
      "1998       2\n",
      "1999       1\n",
      "2000       2\n",
      "2001       2\n",
      "2002       0\n",
      "2003       3\n",
      "2004       0\n",
      "2005       0\n",
      "2006       0\n",
      "2007       0\n",
      "dtype: int64\n"
     ]
    }
   ],
   "source": [
    "#No. of columns where data is 0:\n",
    "print((data== 0).sum())"
   ]
  },
  {
   "cell_type": "code",
   "execution_count": 7,
   "id": "b98f0ece",
   "metadata": {},
   "outputs": [
    {
     "data": {
      "text/plain": [
       "Country    0\n",
       "1990       0\n",
       "1991       0\n",
       "1992       0\n",
       "1993       0\n",
       "1994       0\n",
       "1995       0\n",
       "1996       0\n",
       "1997       0\n",
       "1998       0\n",
       "1999       0\n",
       "2000       0\n",
       "2001       0\n",
       "2002       0\n",
       "2003       0\n",
       "2004       0\n",
       "2005       0\n",
       "2006       0\n",
       "2007       0\n",
       "dtype: int64"
      ]
     },
     "execution_count": 7,
     "metadata": {},
     "output_type": "execute_result"
    }
   ],
   "source": [
    "#Finding no. of null values in each column:\n",
    "data.isnull().sum()"
   ]
  },
  {
   "cell_type": "code",
   "execution_count": 8,
   "id": "23d44220",
   "metadata": {},
   "outputs": [
    {
     "data": {
      "text/plain": [
       "0      353\n",
       "1       36\n",
       "2       47\n",
       "3       12\n",
       "4       25\n",
       "      ... \n",
       "202    126\n",
       "203     43\n",
       "204    194\n",
       "205    535\n",
       "206    512\n",
       "Length: 207, dtype: int32"
      ]
     },
     "execution_count": 8,
     "metadata": {},
     "output_type": "execute_result"
    }
   ],
   "source": [
    "#Adding the average sales column:\n",
    "cols = data.iloc[:, 1:19].replace(',', '', regex=True).astype(int)\n",
    "sum1 = cols.sum(axis=1)\n",
    "avg_sales = (sum1/18).astype(int)\n",
    "avg_sales"
   ]
  },
  {
   "cell_type": "code",
   "execution_count": 9,
   "id": "e9f56b0e",
   "metadata": {},
   "outputs": [
    {
     "data": {
      "text/plain": [
       "0     -32\n",
       "1     -38\n",
       "2      19\n",
       "3     -58\n",
       "4     -24\n",
       "       ..\n",
       "202   -80\n",
       "203   -27\n",
       "204   -32\n",
       "205   -27\n",
       "206    39\n",
       "Length: 207, dtype: int32"
      ]
     },
     "execution_count": 9,
     "metadata": {},
     "output_type": "execute_result"
    }
   ],
   "source": [
    "#Adding the variance trend column:\n",
    "col = (data.iloc[:,18]).str.replace(',', '').astype(int)\n",
    "#col = col.replace(0,1)\n",
    "var_trend = (((col- avg_sales)/avg_sales)*100).astype(int)\n",
    "var_trend"
   ]
  },
  {
   "cell_type": "code",
   "execution_count": 10,
   "id": "e950d7e6",
   "metadata": {},
   "outputs": [
    {
     "data": {
      "text/html": [
       "<div>\n",
       "<style scoped>\n",
       "    .dataframe tbody tr th:only-of-type {\n",
       "        vertical-align: middle;\n",
       "    }\n",
       "\n",
       "    .dataframe tbody tr th {\n",
       "        vertical-align: top;\n",
       "    }\n",
       "\n",
       "    .dataframe thead th {\n",
       "        text-align: right;\n",
       "    }\n",
       "</style>\n",
       "<table border=\"1\" class=\"dataframe\">\n",
       "  <thead>\n",
       "    <tr style=\"text-align: right;\">\n",
       "      <th></th>\n",
       "      <th>Country</th>\n",
       "      <th>Avg_Sale</th>\n",
       "      <th>Var_Trend</th>\n",
       "    </tr>\n",
       "  </thead>\n",
       "  <tbody>\n",
       "    <tr>\n",
       "      <th>0</th>\n",
       "      <td>Afghanistan</td>\n",
       "      <td>353</td>\n",
       "      <td>-32</td>\n",
       "    </tr>\n",
       "    <tr>\n",
       "      <th>1</th>\n",
       "      <td>Albania</td>\n",
       "      <td>36</td>\n",
       "      <td>-38</td>\n",
       "    </tr>\n",
       "    <tr>\n",
       "      <th>2</th>\n",
       "      <td>Algeria</td>\n",
       "      <td>47</td>\n",
       "      <td>19</td>\n",
       "    </tr>\n",
       "    <tr>\n",
       "      <th>3</th>\n",
       "      <td>American Samoa</td>\n",
       "      <td>12</td>\n",
       "      <td>-58</td>\n",
       "    </tr>\n",
       "    <tr>\n",
       "      <th>4</th>\n",
       "      <td>Andorra</td>\n",
       "      <td>25</td>\n",
       "      <td>-24</td>\n",
       "    </tr>\n",
       "  </tbody>\n",
       "</table>\n",
       "</div>"
      ],
      "text/plain": [
       "          Country  Avg_Sale  Var_Trend\n",
       "0     Afghanistan       353        -32\n",
       "1         Albania        36        -38\n",
       "2         Algeria        47         19\n",
       "3  American Samoa        12        -58\n",
       "4         Andorra        25        -24"
      ]
     },
     "execution_count": 10,
     "metadata": {},
     "output_type": "execute_result"
    }
   ],
   "source": [
    "df = pd.DataFrame({'Country':data['Country'],'Avg_Sale':avg_sales,'Var_Trend':var_trend})\n",
    "df.head()"
   ]
  },
  {
   "cell_type": "markdown",
   "id": "1958d17b",
   "metadata": {},
   "source": [
    "###### Splitting the data in two seperate groups "
   ]
  },
  {
   "cell_type": "code",
   "execution_count": 11,
   "id": "82e14b75",
   "metadata": {},
   "outputs": [],
   "source": [
    "z = (df.iloc[:,0].values)\n",
    "x = (df.iloc[:,1:3].values)\n"
   ]
  },
  {
   "cell_type": "code",
   "execution_count": 12,
   "id": "0c8dd4b1",
   "metadata": {},
   "outputs": [
    {
     "data": {
      "image/png": "[encoded data removed]",
      "text/plain": [
       "<Figure size 720x504 with 1 Axes>"
      ]
     },
     "metadata": {
      "needs_background": "light"
     },
     "output_type": "display_data"
    }
   ],
   "source": [
    "# Distribution before clusturing\n",
    "plt.figure(figsize=(10,7))\n",
    "plt.scatter(x[:,0],x[:,1],s=70)\n",
    "plt.xlabel('Average sales in tons')\n",
    "plt.ylabel('Variance in Sales')\n",
    "plt.title('Sales Distribution Pattern')\n",
    "plt.grid()\n",
    "plt.show()"
   ]
  },
  {
   "cell_type": "markdown",
   "id": "4c498bb2",
   "metadata": {},
   "source": [
    "###### Applying Label Encoding to Country column i.e. column 0 since it is a character/string"
   ]
  },
  {
   "cell_type": "code",
   "execution_count": 13,
   "id": "75a4de7b",
   "metadata": {},
   "outputs": [],
   "source": [
    "from sklearn.preprocessing import LabelEncoder\n",
    "\n",
    "# Convert the first column to numeric using LabelEncoder\n",
    "labelencoder = LabelEncoder()\n",
    "z = labelencoder.fit_transform(z)"
   ]
  },
  {
   "cell_type": "code",
   "execution_count": 14,
   "id": "9af90c50",
   "metadata": {},
   "outputs": [
    {
     "data": {
      "text/plain": [
       "array([  0,   1,   2,   3,   4,   5,   6,   7,   8,   9,  10,  11,  12,\n",
       "        13,  14,  15,  16,  17,  18,  19,  20,  21,  22,  23,  24,  25,\n",
       "        26,  27,  28,  29,  30,  31,  32,  33,  34,  35,  36,  37,  38,\n",
       "        39,  40,  41,  42,  44,  45,  46,  48,  49,  50,  51,  47,  96,\n",
       "        43,  52,  53,  54,  55,  56,  57,  58,  59,  60,  61,  62,  63,\n",
       "        64,  65,  66,  67,  68,  69,  70,  71,  72,  73,  74,  75,  76,\n",
       "        77,  78,  79,  80,  81,  82,  83,  84,  85,  86,  87,  88,  89,\n",
       "        90,  91,  92,  93,  94,  95,  98,  99, 100, 101, 102, 103, 104,\n",
       "       105, 106, 107, 109, 110, 111, 112, 113, 114, 115, 116, 117, 118,\n",
       "       120, 121, 122, 123, 124, 125, 126, 127, 128, 129, 130, 131, 132,\n",
       "       133, 134, 135, 136, 137, 138, 139, 140, 141, 142, 143, 144, 145,\n",
       "       146, 147, 148, 149, 150,  97, 119, 151, 152, 153, 154, 155, 156,\n",
       "       157, 158, 159, 160, 161, 162, 163, 164, 165, 166, 167, 168, 169,\n",
       "       170, 171, 172, 173, 174, 175, 176, 177, 178, 180, 108, 181, 182,\n",
       "       183, 184, 185, 186, 187, 188, 189, 190, 191, 192, 193, 194, 179,\n",
       "       201, 195, 196, 197, 198, 199, 200, 202, 203, 204, 205, 206])"
      ]
     },
     "execution_count": 14,
     "metadata": {},
     "output_type": "execute_result"
    }
   ],
   "source": [
    "#The country column after performing encoding \n",
    "z"
   ]
  },
  {
   "cell_type": "markdown",
   "id": "e7d98e01",
   "metadata": {},
   "source": [
    "###### Splitting the data "
   ]
  },
  {
   "cell_type": "code",
   "execution_count": 15,
   "id": "53690910",
   "metadata": {},
   "outputs": [],
   "source": [
    "#train test split\n",
    "from sklearn.model_selection import train_test_split\n",
    "x_train, x_test, y_train, y_test = train_test_split(x,z,test_size=0.2)"
   ]
  },
  {
   "cell_type": "markdown",
   "id": "503a471e",
   "metadata": {},
   "source": [
    "The test_size 0.2 signifies that 20% of data is test data while the rest 80% is train data."
   ]
  },
  {
   "cell_type": "markdown",
   "id": "eab0f7ba",
   "metadata": {},
   "source": [
    "###### Applying Standard scaler"
   ]
  },
  {
   "cell_type": "code",
   "execution_count": 17,
   "id": "9f62dc5d",
   "metadata": {},
   "outputs": [],
   "source": [
    "#from sklearn.preprocessing import StandardScaler \n",
    "#sc = StandardScaler() \n",
    "\n",
    "#x = sc.fit_transform(x) \n",
    "#x_train = sc.fit_transform(x_train) \n",
    "#x = sc.transform(x) "
   ]
  },
  {
   "cell_type": "markdown",
   "id": "ec002012",
   "metadata": {},
   "source": [
    "Standard scaler applied to fit and transform the data according to the model ."
   ]
  },
  {
   "cell_type": "markdown",
   "id": "a373a464",
   "metadata": {},
   "source": [
    "###### Clustering"
   ]
  },
  {
   "cell_type": "code",
   "execution_count": 18,
   "id": "8b79cc6d",
   "metadata": {},
   "outputs": [],
   "source": [
    "from sklearn.cluster import KMeans\n",
    "from sklearn import metrics\n",
    "from scipy.spatial.distance import cdist\n",
    "import numpy as np\n",
    "import matplotlib.pyplot as plt"
   ]
  },
  {
   "cell_type": "code",
   "execution_count": 19,
   "id": "917e8742",
   "metadata": {},
   "outputs": [],
   "source": [
    "wcss =[]\n",
    "for i in range (1,11):\n",
    "    kmeans = KMeans(n_clusters=i, init= 'k-means++')\n",
    "    kmeans.fit(x_test)\n",
    "    wcss.append(kmeans.inertia_)"
   ]
  },
  {
   "cell_type": "code",
   "execution_count": 20,
   "id": "29bedbe4",
   "metadata": {},
   "outputs": [
    {
     "data": {
      "image/png": "[encoded data removed]",
      "text/plain": [
       "<Figure size 432x288 with 1 Axes>"
      ]
     },
     "metadata": {
      "needs_background": "light"
     },
     "output_type": "display_data"
    }
   ],
   "source": [
    "#Plotting the elbow chart\n",
    "plt.plot(range(1,11), wcss,'b*-')\n",
    "plt.xlabel('Values of K')\n",
    "plt.ylabel('inertias')\n",
    "plt.title('The Elbow Method using inertias')\n",
    "plt.show()"
   ]
  },
  {
   "cell_type": "markdown",
   "id": "b58c4090",
   "metadata": {},
   "source": [
    "No. of clusters is 3"
   ]
  },
  {
   "cell_type": "code",
   "execution_count": 21,
   "id": "7b69c2d1",
   "metadata": {},
   "outputs": [],
   "source": [
    "# Predicting the Clusters Number for each country\n",
    "from sklearn.cluster import KMeans\n",
    "kmeans = KMeans(n_clusters= 3,init='k-means++')"
   ]
  },
  {
   "cell_type": "code",
   "execution_count": 22,
   "id": "fd571808",
   "metadata": {},
   "outputs": [
    {
     "data": {
      "text/plain": [
       "array([2, 0, 0, 0, 0, 2, 0, 0, 0, 0, 0, 0, 0, 0, 0, 1, 0, 0, 0, 0, 0, 0,\n",
       "       1, 2, 0, 2, 0, 0, 0, 0, 2, 2, 1, 0, 0, 2, 0, 2, 2, 0, 2, 0, 0, 2,\n",
       "       0, 0, 0, 0, 0, 0, 2, 1, 1, 0, 1, 0, 0, 0, 0, 0, 2, 0, 0, 2, 0, 0,\n",
       "       0, 0, 2, 2, 0, 0, 2, 0, 0, 0, 0, 2, 2, 0, 2, 0, 0, 0, 2, 2, 0, 0,\n",
       "       0, 0, 0, 0, 0, 0, 0, 2, 1, 0, 0, 2, 0, 0, 2, 2, 0, 0, 0, 2, 2, 0,\n",
       "       0, 1, 0, 1, 0, 0, 0, 0, 2, 0, 0, 2, 2, 1, 0, 2, 0, 0, 0, 0, 0, 2,\n",
       "       2, 0, 0, 0, 0, 2, 0, 0, 2, 0, 2, 1, 0, 0, 0, 0, 0, 0, 0, 0, 2, 0,\n",
       "       0, 0, 0, 0, 2, 0, 2, 0, 1, 0, 0, 0, 2, 2, 1, 0, 0, 2, 0, 1, 0, 0,\n",
       "       0, 0, 2, 0, 1, 1, 0, 0, 0, 0, 0, 0, 0, 2, 2, 0, 0, 0, 2, 0, 0, 0,\n",
       "       0, 0, 0, 2, 0, 0, 0, 1, 1])"
      ]
     },
     "execution_count": 22,
     "metadata": {},
     "output_type": "execute_result"
    }
   ],
   "source": [
    "# predicting the no. of cluster \n",
    "y_kmeans =kmeans.fit_predict(x)\n",
    "y_kmeans"
   ]
  },
  {
   "cell_type": "code",
   "execution_count": 23,
   "id": "9ec056be",
   "metadata": {},
   "outputs": [
    {
     "data": {
      "text/html": [
       "<div>\n",
       "<style scoped>\n",
       "    .dataframe tbody tr th:only-of-type {\n",
       "        vertical-align: middle;\n",
       "    }\n",
       "\n",
       "    .dataframe tbody tr th {\n",
       "        vertical-align: top;\n",
       "    }\n",
       "\n",
       "    .dataframe thead th {\n",
       "        text-align: right;\n",
       "    }\n",
       "</style>\n",
       "<table border=\"1\" class=\"dataframe\">\n",
       "  <thead>\n",
       "    <tr style=\"text-align: right;\">\n",
       "      <th></th>\n",
       "      <th>Country</th>\n",
       "      <th>Avg_Sale</th>\n",
       "      <th>Var_Trend</th>\n",
       "      <th>Cluster</th>\n",
       "    </tr>\n",
       "  </thead>\n",
       "  <tbody>\n",
       "    <tr>\n",
       "      <th>0</th>\n",
       "      <td>Afghanistan</td>\n",
       "      <td>353</td>\n",
       "      <td>-32</td>\n",
       "      <td>2</td>\n",
       "    </tr>\n",
       "    <tr>\n",
       "      <th>1</th>\n",
       "      <td>Albania</td>\n",
       "      <td>36</td>\n",
       "      <td>-38</td>\n",
       "      <td>0</td>\n",
       "    </tr>\n",
       "    <tr>\n",
       "      <th>2</th>\n",
       "      <td>Algeria</td>\n",
       "      <td>47</td>\n",
       "      <td>19</td>\n",
       "      <td>0</td>\n",
       "    </tr>\n",
       "    <tr>\n",
       "      <th>3</th>\n",
       "      <td>American Samoa</td>\n",
       "      <td>12</td>\n",
       "      <td>-58</td>\n",
       "      <td>0</td>\n",
       "    </tr>\n",
       "    <tr>\n",
       "      <th>4</th>\n",
       "      <td>Andorra</td>\n",
       "      <td>25</td>\n",
       "      <td>-24</td>\n",
       "      <td>0</td>\n",
       "    </tr>\n",
       "    <tr>\n",
       "      <th>...</th>\n",
       "      <td>...</td>\n",
       "      <td>...</td>\n",
       "      <td>...</td>\n",
       "      <td>...</td>\n",
       "    </tr>\n",
       "    <tr>\n",
       "      <th>202</th>\n",
       "      <td>Wallis et Futuna</td>\n",
       "      <td>126</td>\n",
       "      <td>-80</td>\n",
       "      <td>0</td>\n",
       "    </tr>\n",
       "    <tr>\n",
       "      <th>203</th>\n",
       "      <td>West Bank and Gaza</td>\n",
       "      <td>43</td>\n",
       "      <td>-27</td>\n",
       "      <td>0</td>\n",
       "    </tr>\n",
       "    <tr>\n",
       "      <th>204</th>\n",
       "      <td>Yemen</td>\n",
       "      <td>194</td>\n",
       "      <td>-32</td>\n",
       "      <td>0</td>\n",
       "    </tr>\n",
       "    <tr>\n",
       "      <th>205</th>\n",
       "      <td>Zambia</td>\n",
       "      <td>535</td>\n",
       "      <td>-27</td>\n",
       "      <td>1</td>\n",
       "    </tr>\n",
       "    <tr>\n",
       "      <th>206</th>\n",
       "      <td>Zimbabwe</td>\n",
       "      <td>512</td>\n",
       "      <td>39</td>\n",
       "      <td>1</td>\n",
       "    </tr>\n",
       "  </tbody>\n",
       "</table>\n",
       "<p>207 rows × 4 columns</p>\n",
       "</div>"
      ],
      "text/plain": [
       "                Country  Avg_Sale  Var_Trend  Cluster\n",
       "0           Afghanistan       353        -32        2\n",
       "1               Albania        36        -38        0\n",
       "2               Algeria        47         19        0\n",
       "3        American Samoa        12        -58        0\n",
       "4               Andorra        25        -24        0\n",
       "..                  ...       ...        ...      ...\n",
       "202    Wallis et Futuna       126        -80        0\n",
       "203  West Bank and Gaza        43        -27        0\n",
       "204               Yemen       194        -32        0\n",
       "205              Zambia       535        -27        1\n",
       "206            Zimbabwe       512         39        1\n",
       "\n",
       "[207 rows x 4 columns]"
      ]
     },
     "execution_count": 23,
     "metadata": {},
     "output_type": "execute_result"
    }
   ],
   "source": [
    "# Appending the cluster  numbers in dataframeto identify each country with a cluster number.\n",
    "df.reset_index(drop=True, inplace=True)\n",
    "pd.DataFrame(y_kmeans).reset_index(drop=True, inplace=True)\n",
    "result_df = pd.concat([df, pd.DataFrame(y_kmeans)], axis=1)\n",
    "result_df.rename(columns = {0:'Cluster'}, inplace = True)\n",
    "result_df"
   ]
  },
  {
   "cell_type": "code",
   "execution_count": 24,
   "id": "36318e47",
   "metadata": {},
   "outputs": [
    {
     "data": {
      "image/png": "[encoded data removed]",
      "text/plain": [
       "<Figure size 720x720 with 1 Axes>"
      ]
     },
     "metadata": {
      "needs_background": "light"
     },
     "output_type": "display_data"
    }
   ],
   "source": [
    "plt.figure(figsize=(10,10))\n",
    "\n",
    "plt.scatter(x[y_kmeans == 0, 0], x[y_kmeans == 0, 1], s=100, c='orange', label='Cluster 0')\n",
    "plt.scatter(x[y_kmeans == 1, 0], x[y_kmeans == 1, 1], s=100, c='green', label='Cluster 1')\n",
    "plt.scatter(x[y_kmeans == 2, 0], x[y_kmeans == 2, 1], s=100, c='red', label='Cluster 2')\n",
    "#plt.scatter(x[y_kmeans == 3, 0], x[y_kmeans == 3, 1], s=100, c='blue', label='Cluster 4')\n",
    "\n",
    "plt.title('Clusters of countries') \n",
    "plt.xlabel('Average Sales in tons')  \n",
    "plt.ylabel('Variance in Sales')  \n",
    "plt.legend()\n",
    "plt.grid()\n",
    "plt.show()"
   ]
  },
  {
   "cell_type": "markdown",
   "id": "bda7a1df",
   "metadata": {},
   "source": [
    "The company should focus on countries in cluster 0 (orange dots)  and then on cluster 2(red dots ).  These countries have been consistently providing business of good scale. "
   ]
  },
  {
   "cell_type": "code",
   "execution_count": 25,
   "id": "c55e6e2d",
   "metadata": {},
   "outputs": [
    {
     "data": {
      "text/html": [
       "<div>\n",
       "<style scoped>\n",
       "    .dataframe tbody tr th:only-of-type {\n",
       "        vertical-align: middle;\n",
       "    }\n",
       "\n",
       "    .dataframe tbody tr th {\n",
       "        vertical-align: top;\n",
       "    }\n",
       "\n",
       "    .dataframe thead th {\n",
       "        text-align: right;\n",
       "    }\n",
       "</style>\n",
       "<table border=\"1\" class=\"dataframe\">\n",
       "  <thead>\n",
       "    <tr style=\"text-align: right;\">\n",
       "      <th></th>\n",
       "      <th>Country</th>\n",
       "      <th>Avg_Sale</th>\n",
       "      <th>Var_Trend</th>\n",
       "      <th>Cluster</th>\n",
       "    </tr>\n",
       "  </thead>\n",
       "  <tbody>\n",
       "    <tr>\n",
       "      <th>0</th>\n",
       "      <td>Niue</td>\n",
       "      <td>83</td>\n",
       "      <td>-100</td>\n",
       "      <td>0</td>\n",
       "    </tr>\n",
       "    <tr>\n",
       "      <th>1</th>\n",
       "      <td>Tokelau</td>\n",
       "      <td>71</td>\n",
       "      <td>-100</td>\n",
       "      <td>0</td>\n",
       "    </tr>\n",
       "    <tr>\n",
       "      <th>2</th>\n",
       "      <td>Wallis et Futuna</td>\n",
       "      <td>126</td>\n",
       "      <td>-80</td>\n",
       "      <td>0</td>\n",
       "    </tr>\n",
       "    <tr>\n",
       "      <th>3</th>\n",
       "      <td>Nauru</td>\n",
       "      <td>158</td>\n",
       "      <td>-79</td>\n",
       "      <td>0</td>\n",
       "    </tr>\n",
       "    <tr>\n",
       "      <th>4</th>\n",
       "      <td>Hungary</td>\n",
       "      <td>51</td>\n",
       "      <td>-62</td>\n",
       "      <td>0</td>\n",
       "    </tr>\n",
       "    <tr>\n",
       "      <th>...</th>\n",
       "      <td>...</td>\n",
       "      <td>...</td>\n",
       "      <td>...</td>\n",
       "      <td>...</td>\n",
       "    </tr>\n",
       "    <tr>\n",
       "      <th>202</th>\n",
       "      <td>Botswana</td>\n",
       "      <td>448</td>\n",
       "      <td>38</td>\n",
       "      <td>2</td>\n",
       "    </tr>\n",
       "    <tr>\n",
       "      <th>203</th>\n",
       "      <td>Burundi</td>\n",
       "      <td>449</td>\n",
       "      <td>44</td>\n",
       "      <td>2</td>\n",
       "    </tr>\n",
       "    <tr>\n",
       "      <th>204</th>\n",
       "      <td>Rwanda</td>\n",
       "      <td>400</td>\n",
       "      <td>47</td>\n",
       "      <td>2</td>\n",
       "    </tr>\n",
       "    <tr>\n",
       "      <th>205</th>\n",
       "      <td>Equatorial Guinea</td>\n",
       "      <td>294</td>\n",
       "      <td>59</td>\n",
       "      <td>2</td>\n",
       "    </tr>\n",
       "    <tr>\n",
       "      <th>206</th>\n",
       "      <td>Lesotho</td>\n",
       "      <td>336</td>\n",
       "      <td>69</td>\n",
       "      <td>2</td>\n",
       "    </tr>\n",
       "  </tbody>\n",
       "</table>\n",
       "<p>207 rows × 4 columns</p>\n",
       "</div>"
      ],
      "text/plain": [
       "               Country  Avg_Sale  Var_Trend  Cluster\n",
       "0                 Niue        83       -100        0\n",
       "1              Tokelau        71       -100        0\n",
       "2     Wallis et Futuna       126        -80        0\n",
       "3                Nauru       158        -79        0\n",
       "4              Hungary        51        -62        0\n",
       "..                 ...       ...        ...      ...\n",
       "202           Botswana       448         38        2\n",
       "203            Burundi       449         44        2\n",
       "204             Rwanda       400         47        2\n",
       "205  Equatorial Guinea       294         59        2\n",
       "206            Lesotho       336         69        2\n",
       "\n",
       "[207 rows x 4 columns]"
      ]
     },
     "execution_count": 25,
     "metadata": {},
     "output_type": "execute_result"
    }
   ],
   "source": [
    "grouped = result_df.groupby('Cluster')\n",
    "\n",
    "def sort_group(group):\n",
    "    return group.sort_values(by='Var_Trend', ascending=True)\n",
    "\n",
    "sorted_df = grouped.apply(sort_group).reset_index(drop=True)\n",
    "sorted_df.to_csv('Sorted_Data.csv')\n",
    "sorted_df"
   ]
  },
  {
   "cell_type": "code",
   "execution_count": null,
   "id": "bb76cc23",
   "metadata": {},
   "outputs": [],
   "source": []
  },
  {
   "cell_type": "code",
   "execution_count": null,
   "id": "84e5bf14",
   "metadata": {},
   "outputs": [],
   "source": []
  }
 ],
 "metadata": {
  "kernelspec": {
   "display_name": "Python 3 (ipykernel)",
   "language": "python",
   "name": "python3"
  },
  "language_info": {
   "codemirror_mode": {
    "name": "ipython",
    "version": 3
   },
   "file_extension": ".py",
   "mimetype": "text/x-python",
   "name": "python",
   "nbconvert_exporter": "python",
   "pygments_lexer": "ipython3",
   "version": "3.9.5"
  }
 },
 "nbformat": 4,
 "nbformat_minor": 5
}
